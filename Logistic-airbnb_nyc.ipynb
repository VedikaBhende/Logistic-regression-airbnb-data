{
 "cells": [
  {
   "cell_type": "code",
   "execution_count": 1,
   "id": "ab52667f",
   "metadata": {},
   "outputs": [],
   "source": [
    "# utilities needed for data pre-processing\n",
    "import numpy as np\n",
    "import pandas as pd\n",
    "import warnings\n",
    "warnings.filterwarnings('ignore')\n",
    "\n",
    "# utilities needed for data visualization\n",
    "import matplotlib.pyplot as plt\n",
    "import seaborn as sns\n",
    "%matplotlib inline\n",
    "\n",
    "# utilities needed for regression\n",
    "from sklearn.model_selection import train_test_split\n",
    "from sklearn.linear_model import LogisticRegression\n",
    "from sklearn import preprocessing\n",
    "\n",
    "from sklearn.metrics import accuracy_score, confusion_matrix"
   ]
  },
  {
   "cell_type": "code",
   "execution_count": 2,
   "id": "3e6c08ae",
   "metadata": {},
   "outputs": [],
   "source": [
    "# read the dataset\n",
    "df = pd.read_csv(r\"C:\\Users\\vedik\\OneDrive\\Documents\\csv_data\\airbnb_data.csv\", index_col=0)"
   ]
  },
  {
   "cell_type": "code",
   "execution_count": 3,
   "id": "a419e2b5",
   "metadata": {},
   "outputs": [
    {
     "data": {
      "text/plain": [
       "'No. of rows in dataset:'"
      ]
     },
     "metadata": {},
     "output_type": "display_data"
    },
    {
     "data": {
      "text/plain": [
       "56727"
      ]
     },
     "metadata": {},
     "output_type": "display_data"
    },
    {
     "data": {
      "text/plain": [
       "'No. of columns in dataset:'"
      ]
     },
     "metadata": {},
     "output_type": "display_data"
    },
    {
     "data": {
      "text/plain": [
       "14"
      ]
     },
     "metadata": {},
     "output_type": "display_data"
    },
    {
     "name": "stdout",
     "output_type": "stream",
     "text": [
      "<class 'pandas.core.frame.DataFrame'>\n",
      "Int64Index: 56727 entries, 1 to 56727\n",
      "Data columns (total 14 columns):\n",
      " #   Column                          Non-Null Count  Dtype  \n",
      "---  ------                          --------------  -----  \n",
      " 0   id                              56727 non-null  int64  \n",
      " 1   name                            56288 non-null  object \n",
      " 2   host_id                         56727 non-null  int64  \n",
      " 3   host_name                       56706 non-null  object \n",
      " 4   neighbourhood_group             56297 non-null  object \n",
      " 5   neighbourhood                   56727 non-null  object \n",
      " 6   latitude                        56727 non-null  float64\n",
      " 7   longitude                       56727 non-null  float64\n",
      " 8   room_type                       56344 non-null  object \n",
      " 9   price                           56279 non-null  float64\n",
      " 10  minimum_nights                  56727 non-null  int64  \n",
      " 11  calculated_host_listings_count  56727 non-null  int64  \n",
      " 12  availability_365                56279 non-null  float64\n",
      " 13  Target                          56727 non-null  int64  \n",
      "dtypes: float64(4), int64(5), object(5)\n",
      "memory usage: 6.5+ MB\n"
     ]
    }
   ],
   "source": [
    "# get information about the csv file\n",
    "display(\"No. of rows in dataset:\",len(df))\n",
    "display(\"No. of columns in dataset:\",len(df.columns))\n",
    "df.info()"
   ]
  },
  {
   "cell_type": "code",
   "execution_count": 4,
   "id": "4d48199a",
   "metadata": {},
   "outputs": [
    {
     "data": {
      "text/html": [
       "<div>\n",
       "<style scoped>\n",
       "    .dataframe tbody tr th:only-of-type {\n",
       "        vertical-align: middle;\n",
       "    }\n",
       "\n",
       "    .dataframe tbody tr th {\n",
       "        vertical-align: top;\n",
       "    }\n",
       "\n",
       "    .dataframe thead th {\n",
       "        text-align: right;\n",
       "    }\n",
       "</style>\n",
       "<table border=\"1\" class=\"dataframe\">\n",
       "  <thead>\n",
       "    <tr style=\"text-align: right;\">\n",
       "      <th></th>\n",
       "      <th>id</th>\n",
       "      <th>name</th>\n",
       "      <th>host_id</th>\n",
       "      <th>host_name</th>\n",
       "      <th>neighbourhood_group</th>\n",
       "      <th>neighbourhood</th>\n",
       "      <th>latitude</th>\n",
       "      <th>longitude</th>\n",
       "      <th>room_type</th>\n",
       "      <th>price</th>\n",
       "      <th>minimum_nights</th>\n",
       "      <th>calculated_host_listings_count</th>\n",
       "      <th>availability_365</th>\n",
       "      <th>Target</th>\n",
       "    </tr>\n",
       "  </thead>\n",
       "  <tbody>\n",
       "    <tr>\n",
       "      <th>1</th>\n",
       "      <td>2539</td>\n",
       "      <td>Clean &amp; quiet apt home by the park</td>\n",
       "      <td>2787</td>\n",
       "      <td>John</td>\n",
       "      <td>Brooklyn</td>\n",
       "      <td>Kensington</td>\n",
       "      <td>40.64749</td>\n",
       "      <td>-73.97237</td>\n",
       "      <td>Private room</td>\n",
       "      <td>149.0</td>\n",
       "      <td>1</td>\n",
       "      <td>6</td>\n",
       "      <td>365.0</td>\n",
       "      <td>0</td>\n",
       "    </tr>\n",
       "    <tr>\n",
       "      <th>2</th>\n",
       "      <td>2595</td>\n",
       "      <td>Skylit Midtown Castle</td>\n",
       "      <td>2845</td>\n",
       "      <td>Jennifer</td>\n",
       "      <td>Manhattan</td>\n",
       "      <td>Midtown</td>\n",
       "      <td>40.75362</td>\n",
       "      <td>-73.98377</td>\n",
       "      <td>Entire home/apt</td>\n",
       "      <td>225.0</td>\n",
       "      <td>1</td>\n",
       "      <td>2</td>\n",
       "      <td>355.0</td>\n",
       "      <td>0</td>\n",
       "    </tr>\n",
       "    <tr>\n",
       "      <th>3</th>\n",
       "      <td>3647</td>\n",
       "      <td>THE VILLAGE OF HARLEM....NEW YORK !</td>\n",
       "      <td>4632</td>\n",
       "      <td>Elisabeth</td>\n",
       "      <td>Manhattan</td>\n",
       "      <td>Harlem</td>\n",
       "      <td>40.80902</td>\n",
       "      <td>-73.94190</td>\n",
       "      <td>Private room</td>\n",
       "      <td>150.0</td>\n",
       "      <td>3</td>\n",
       "      <td>1</td>\n",
       "      <td>365.0</td>\n",
       "      <td>0</td>\n",
       "    </tr>\n",
       "    <tr>\n",
       "      <th>4</th>\n",
       "      <td>3831</td>\n",
       "      <td>Cozy Entire Floor of Brownstone</td>\n",
       "      <td>4869</td>\n",
       "      <td>LisaRoxanne</td>\n",
       "      <td>Brooklyn</td>\n",
       "      <td>Clinton Hill</td>\n",
       "      <td>40.68514</td>\n",
       "      <td>-73.95976</td>\n",
       "      <td>Entire home/apt</td>\n",
       "      <td>89.0</td>\n",
       "      <td>1</td>\n",
       "      <td>1</td>\n",
       "      <td>194.0</td>\n",
       "      <td>1</td>\n",
       "    </tr>\n",
       "    <tr>\n",
       "      <th>5</th>\n",
       "      <td>5022</td>\n",
       "      <td>Entire Apt: Spacious Studio/Loft by central park</td>\n",
       "      <td>7192</td>\n",
       "      <td>Laura</td>\n",
       "      <td>Manhattan</td>\n",
       "      <td>East Harlem</td>\n",
       "      <td>40.79851</td>\n",
       "      <td>-73.94399</td>\n",
       "      <td>Entire home/apt</td>\n",
       "      <td>80.0</td>\n",
       "      <td>10</td>\n",
       "      <td>1</td>\n",
       "      <td>0.0</td>\n",
       "      <td>0</td>\n",
       "    </tr>\n",
       "    <tr>\n",
       "      <th>...</th>\n",
       "      <td>...</td>\n",
       "      <td>...</td>\n",
       "      <td>...</td>\n",
       "      <td>...</td>\n",
       "      <td>...</td>\n",
       "      <td>...</td>\n",
       "      <td>...</td>\n",
       "      <td>...</td>\n",
       "      <td>...</td>\n",
       "      <td>...</td>\n",
       "      <td>...</td>\n",
       "      <td>...</td>\n",
       "      <td>...</td>\n",
       "      <td>...</td>\n",
       "    </tr>\n",
       "    <tr>\n",
       "      <th>56723</th>\n",
       "      <td>36484665</td>\n",
       "      <td>Charming one bedroom - newly renovated rowhouse</td>\n",
       "      <td>8232441</td>\n",
       "      <td>Sabrina</td>\n",
       "      <td>Brooklyn</td>\n",
       "      <td>Bedford-Stuyvesant</td>\n",
       "      <td>40.67853</td>\n",
       "      <td>-73.94995</td>\n",
       "      <td>Private room</td>\n",
       "      <td>70.0</td>\n",
       "      <td>2</td>\n",
       "      <td>2</td>\n",
       "      <td>9.0</td>\n",
       "      <td>0</td>\n",
       "    </tr>\n",
       "    <tr>\n",
       "      <th>56724</th>\n",
       "      <td>36485057</td>\n",
       "      <td>Affordable room in Bushwick/East Williamsburg</td>\n",
       "      <td>6570630</td>\n",
       "      <td>Marisol</td>\n",
       "      <td>Brooklyn</td>\n",
       "      <td>Bushwick</td>\n",
       "      <td>40.70184</td>\n",
       "      <td>-73.93317</td>\n",
       "      <td>Private room</td>\n",
       "      <td>40.0</td>\n",
       "      <td>4</td>\n",
       "      <td>2</td>\n",
       "      <td>36.0</td>\n",
       "      <td>0</td>\n",
       "    </tr>\n",
       "    <tr>\n",
       "      <th>56725</th>\n",
       "      <td>36485431</td>\n",
       "      <td>Sunny Studio at Historical Neighborhood</td>\n",
       "      <td>23492952</td>\n",
       "      <td>Ilgar &amp; Aysel</td>\n",
       "      <td>Manhattan</td>\n",
       "      <td>Harlem</td>\n",
       "      <td>40.81475</td>\n",
       "      <td>-73.94867</td>\n",
       "      <td>Entire home/apt</td>\n",
       "      <td>115.0</td>\n",
       "      <td>10</td>\n",
       "      <td>1</td>\n",
       "      <td>27.0</td>\n",
       "      <td>0</td>\n",
       "    </tr>\n",
       "    <tr>\n",
       "      <th>56726</th>\n",
       "      <td>36485609</td>\n",
       "      <td>43rd St. Time Square-cozy single bed</td>\n",
       "      <td>30985759</td>\n",
       "      <td>Taz</td>\n",
       "      <td>Manhattan</td>\n",
       "      <td>Hell's Kitchen</td>\n",
       "      <td>40.75751</td>\n",
       "      <td>-73.99112</td>\n",
       "      <td>Shared room</td>\n",
       "      <td>55.0</td>\n",
       "      <td>1</td>\n",
       "      <td>6</td>\n",
       "      <td>2.0</td>\n",
       "      <td>0</td>\n",
       "    </tr>\n",
       "    <tr>\n",
       "      <th>56727</th>\n",
       "      <td>36487245</td>\n",
       "      <td>Trendy duplex in the very heart of Hell's Kitchen</td>\n",
       "      <td>68119814</td>\n",
       "      <td>Christophe</td>\n",
       "      <td>Manhattan</td>\n",
       "      <td>Hell's Kitchen</td>\n",
       "      <td>40.76404</td>\n",
       "      <td>-73.98933</td>\n",
       "      <td>Private room</td>\n",
       "      <td>90.0</td>\n",
       "      <td>7</td>\n",
       "      <td>1</td>\n",
       "      <td>23.0</td>\n",
       "      <td>0</td>\n",
       "    </tr>\n",
       "  </tbody>\n",
       "</table>\n",
       "<p>56727 rows × 14 columns</p>\n",
       "</div>"
      ],
      "text/plain": [
       "             id                                               name   host_id  \\\n",
       "1          2539                 Clean & quiet apt home by the park      2787   \n",
       "2          2595                              Skylit Midtown Castle      2845   \n",
       "3          3647                THE VILLAGE OF HARLEM....NEW YORK !      4632   \n",
       "4          3831                    Cozy Entire Floor of Brownstone      4869   \n",
       "5          5022   Entire Apt: Spacious Studio/Loft by central park      7192   \n",
       "...         ...                                                ...       ...   \n",
       "56723  36484665    Charming one bedroom - newly renovated rowhouse   8232441   \n",
       "56724  36485057      Affordable room in Bushwick/East Williamsburg   6570630   \n",
       "56725  36485431            Sunny Studio at Historical Neighborhood  23492952   \n",
       "56726  36485609               43rd St. Time Square-cozy single bed  30985759   \n",
       "56727  36487245  Trendy duplex in the very heart of Hell's Kitchen  68119814   \n",
       "\n",
       "           host_name neighbourhood_group       neighbourhood  latitude  \\\n",
       "1               John            Brooklyn          Kensington  40.64749   \n",
       "2           Jennifer           Manhattan             Midtown  40.75362   \n",
       "3          Elisabeth           Manhattan              Harlem  40.80902   \n",
       "4        LisaRoxanne            Brooklyn        Clinton Hill  40.68514   \n",
       "5              Laura           Manhattan         East Harlem  40.79851   \n",
       "...              ...                 ...                 ...       ...   \n",
       "56723        Sabrina            Brooklyn  Bedford-Stuyvesant  40.67853   \n",
       "56724        Marisol            Brooklyn            Bushwick  40.70184   \n",
       "56725  Ilgar & Aysel           Manhattan              Harlem  40.81475   \n",
       "56726            Taz           Manhattan      Hell's Kitchen  40.75751   \n",
       "56727     Christophe           Manhattan      Hell's Kitchen  40.76404   \n",
       "\n",
       "       longitude        room_type  price  minimum_nights  \\\n",
       "1      -73.97237     Private room  149.0               1   \n",
       "2      -73.98377  Entire home/apt  225.0               1   \n",
       "3      -73.94190     Private room  150.0               3   \n",
       "4      -73.95976  Entire home/apt   89.0               1   \n",
       "5      -73.94399  Entire home/apt   80.0              10   \n",
       "...          ...              ...    ...             ...   \n",
       "56723  -73.94995     Private room   70.0               2   \n",
       "56724  -73.93317     Private room   40.0               4   \n",
       "56725  -73.94867  Entire home/apt  115.0              10   \n",
       "56726  -73.99112      Shared room   55.0               1   \n",
       "56727  -73.98933     Private room   90.0               7   \n",
       "\n",
       "       calculated_host_listings_count  availability_365  Target  \n",
       "1                                   6             365.0       0  \n",
       "2                                   2             355.0       0  \n",
       "3                                   1             365.0       0  \n",
       "4                                   1             194.0       1  \n",
       "5                                   1               0.0       0  \n",
       "...                               ...               ...     ...  \n",
       "56723                               2               9.0       0  \n",
       "56724                               2              36.0       0  \n",
       "56725                               1              27.0       0  \n",
       "56726                               6               2.0       0  \n",
       "56727                               1              23.0       0  \n",
       "\n",
       "[56727 rows x 14 columns]"
      ]
     },
     "execution_count": 4,
     "metadata": {},
     "output_type": "execute_result"
    }
   ],
   "source": [
    "df"
   ]
  },
  {
   "cell_type": "code",
   "execution_count": 5,
   "id": "3922b224",
   "metadata": {},
   "outputs": [
    {
     "data": {
      "text/html": [
       "<div>\n",
       "<style scoped>\n",
       "    .dataframe tbody tr th:only-of-type {\n",
       "        vertical-align: middle;\n",
       "    }\n",
       "\n",
       "    .dataframe tbody tr th {\n",
       "        vertical-align: top;\n",
       "    }\n",
       "\n",
       "    .dataframe thead th {\n",
       "        text-align: right;\n",
       "    }\n",
       "</style>\n",
       "<table border=\"1\" class=\"dataframe\">\n",
       "  <thead>\n",
       "    <tr style=\"text-align: right;\">\n",
       "      <th></th>\n",
       "      <th>id</th>\n",
       "      <th>host_id</th>\n",
       "      <th>host_name</th>\n",
       "      <th>neighbourhood_group</th>\n",
       "      <th>neighbourhood</th>\n",
       "      <th>latitude</th>\n",
       "      <th>longitude</th>\n",
       "      <th>room_type</th>\n",
       "      <th>price</th>\n",
       "      <th>minimum_nights</th>\n",
       "      <th>calculated_host_listings_count</th>\n",
       "      <th>availability_365</th>\n",
       "      <th>Target</th>\n",
       "    </tr>\n",
       "  </thead>\n",
       "  <tbody>\n",
       "    <tr>\n",
       "      <th>1</th>\n",
       "      <td>2539</td>\n",
       "      <td>2787</td>\n",
       "      <td>John</td>\n",
       "      <td>Brooklyn</td>\n",
       "      <td>Kensington</td>\n",
       "      <td>40.64749</td>\n",
       "      <td>-73.97237</td>\n",
       "      <td>Private room</td>\n",
       "      <td>149.0</td>\n",
       "      <td>1</td>\n",
       "      <td>6</td>\n",
       "      <td>365.0</td>\n",
       "      <td>0</td>\n",
       "    </tr>\n",
       "    <tr>\n",
       "      <th>2</th>\n",
       "      <td>2595</td>\n",
       "      <td>2845</td>\n",
       "      <td>Jennifer</td>\n",
       "      <td>Manhattan</td>\n",
       "      <td>Midtown</td>\n",
       "      <td>40.75362</td>\n",
       "      <td>-73.98377</td>\n",
       "      <td>Entire home/apt</td>\n",
       "      <td>225.0</td>\n",
       "      <td>1</td>\n",
       "      <td>2</td>\n",
       "      <td>355.0</td>\n",
       "      <td>0</td>\n",
       "    </tr>\n",
       "    <tr>\n",
       "      <th>3</th>\n",
       "      <td>3647</td>\n",
       "      <td>4632</td>\n",
       "      <td>Elisabeth</td>\n",
       "      <td>Manhattan</td>\n",
       "      <td>Harlem</td>\n",
       "      <td>40.80902</td>\n",
       "      <td>-73.94190</td>\n",
       "      <td>Private room</td>\n",
       "      <td>150.0</td>\n",
       "      <td>3</td>\n",
       "      <td>1</td>\n",
       "      <td>365.0</td>\n",
       "      <td>0</td>\n",
       "    </tr>\n",
       "    <tr>\n",
       "      <th>4</th>\n",
       "      <td>3831</td>\n",
       "      <td>4869</td>\n",
       "      <td>LisaRoxanne</td>\n",
       "      <td>Brooklyn</td>\n",
       "      <td>Clinton Hill</td>\n",
       "      <td>40.68514</td>\n",
       "      <td>-73.95976</td>\n",
       "      <td>Entire home/apt</td>\n",
       "      <td>89.0</td>\n",
       "      <td>1</td>\n",
       "      <td>1</td>\n",
       "      <td>194.0</td>\n",
       "      <td>1</td>\n",
       "    </tr>\n",
       "    <tr>\n",
       "      <th>5</th>\n",
       "      <td>5022</td>\n",
       "      <td>7192</td>\n",
       "      <td>Laura</td>\n",
       "      <td>Manhattan</td>\n",
       "      <td>East Harlem</td>\n",
       "      <td>40.79851</td>\n",
       "      <td>-73.94399</td>\n",
       "      <td>Entire home/apt</td>\n",
       "      <td>80.0</td>\n",
       "      <td>10</td>\n",
       "      <td>1</td>\n",
       "      <td>0.0</td>\n",
       "      <td>0</td>\n",
       "    </tr>\n",
       "  </tbody>\n",
       "</table>\n",
       "</div>"
      ],
      "text/plain": [
       "     id  host_id    host_name neighbourhood_group neighbourhood  latitude  \\\n",
       "1  2539     2787         John            Brooklyn    Kensington  40.64749   \n",
       "2  2595     2845     Jennifer           Manhattan       Midtown  40.75362   \n",
       "3  3647     4632    Elisabeth           Manhattan        Harlem  40.80902   \n",
       "4  3831     4869  LisaRoxanne            Brooklyn  Clinton Hill  40.68514   \n",
       "5  5022     7192        Laura           Manhattan   East Harlem  40.79851   \n",
       "\n",
       "   longitude        room_type  price  minimum_nights  \\\n",
       "1  -73.97237     Private room  149.0               1   \n",
       "2  -73.98377  Entire home/apt  225.0               1   \n",
       "3  -73.94190     Private room  150.0               3   \n",
       "4  -73.95976  Entire home/apt   89.0               1   \n",
       "5  -73.94399  Entire home/apt   80.0              10   \n",
       "\n",
       "   calculated_host_listings_count  availability_365  Target  \n",
       "1                               6             365.0       0  \n",
       "2                               2             355.0       0  \n",
       "3                               1             365.0       0  \n",
       "4                               1             194.0       1  \n",
       "5                               1               0.0       0  "
      ]
     },
     "execution_count": 5,
     "metadata": {},
     "output_type": "execute_result"
    }
   ],
   "source": [
    "# column Name has multiple NaN values\n",
    "# name is not important for our model, so dropping the column from the dataframe\n",
    "df.drop(columns=['name'], inplace=True)\n",
    "df.head()"
   ]
  },
  {
   "cell_type": "code",
   "execution_count": 6,
   "id": "5420622a",
   "metadata": {},
   "outputs": [],
   "source": [
    "# mapping each neighbourhood to its neighbourhood_group\n",
    "groups = df[df['neighbourhood_group'].notna()].groupby('neighbourhood')\n",
    "neighbourhood_map = pd.Series([], dtype='str')\n",
    "for i,j in groups:\n",
    "    if len(j['neighbourhood_group'].value_counts()) > 1: # checking if one neighbourhood belongs to multiple groups (checking for corrupt data)\n",
    "        print(i)\n",
    "        display(j['neighbourhood_group'].value_counts())\n",
    "    else:\n",
    "        neighbourhood_map[i] = j['neighbourhood_group'].value_counts().index.values[0] # creating a map for neighbourhood and neighbourhood_group"
   ]
  },
  {
   "cell_type": "code",
   "execution_count": 7,
   "id": "ea455715",
   "metadata": {},
   "outputs": [
    {
     "data": {
      "text/plain": [
       "Allerton                   Bronx\n",
       "Arden Heights      Staten Island\n",
       "Arrochar           Staten Island\n",
       "Arverne                   Queens\n",
       "Astoria                   Queens\n",
       "                       ...      \n",
       "Windsor Terrace         Brooklyn\n",
       "Woodhaven                 Queens\n",
       "Woodlawn                   Bronx\n",
       "Woodrow            Staten Island\n",
       "Woodside                  Queens\n",
       "Length: 221, dtype: object"
      ]
     },
     "execution_count": 7,
     "metadata": {},
     "output_type": "execute_result"
    }
   ],
   "source": [
    "neighbourhood_map"
   ]
  },
  {
   "cell_type": "code",
   "execution_count": 8,
   "id": "9ae1d9da",
   "metadata": {},
   "outputs": [
    {
     "data": {
      "text/plain": [
       "0"
      ]
     },
     "execution_count": 8,
     "metadata": {},
     "output_type": "execute_result"
    }
   ],
   "source": [
    "# checking if there is any neighbourhood which has no look up from the map we created\n",
    "df['neighbourhood'].map(lambda nb: neighbourhood_map[nb]).isna().sum()"
   ]
  },
  {
   "cell_type": "code",
   "execution_count": 9,
   "id": "9302c046",
   "metadata": {},
   "outputs": [
    {
     "data": {
      "text/html": [
       "<div>\n",
       "<style scoped>\n",
       "    .dataframe tbody tr th:only-of-type {\n",
       "        vertical-align: middle;\n",
       "    }\n",
       "\n",
       "    .dataframe tbody tr th {\n",
       "        vertical-align: top;\n",
       "    }\n",
       "\n",
       "    .dataframe thead th {\n",
       "        text-align: right;\n",
       "    }\n",
       "</style>\n",
       "<table border=\"1\" class=\"dataframe\">\n",
       "  <thead>\n",
       "    <tr style=\"text-align: right;\">\n",
       "      <th></th>\n",
       "      <th>id</th>\n",
       "      <th>host_id</th>\n",
       "      <th>host_name</th>\n",
       "      <th>neighbourhood_group</th>\n",
       "      <th>neighbourhood</th>\n",
       "      <th>latitude</th>\n",
       "      <th>longitude</th>\n",
       "      <th>room_type</th>\n",
       "      <th>price</th>\n",
       "      <th>minimum_nights</th>\n",
       "      <th>calculated_host_listings_count</th>\n",
       "      <th>availability_365</th>\n",
       "      <th>Target</th>\n",
       "    </tr>\n",
       "  </thead>\n",
       "  <tbody>\n",
       "  </tbody>\n",
       "</table>\n",
       "</div>"
      ],
      "text/plain": [
       "Empty DataFrame\n",
       "Columns: [id, host_id, host_name, neighbourhood_group, neighbourhood, latitude, longitude, room_type, price, minimum_nights, calculated_host_listings_count, availability_365, Target]\n",
       "Index: []"
      ]
     },
     "execution_count": 9,
     "metadata": {},
     "output_type": "execute_result"
    }
   ],
   "source": [
    "# replacing the NaN values with our mapped values\n",
    "df['neighbourhood_group'] = df['neighbourhood'].map(lambda nb: neighbourhood_map[nb])\n",
    "df[df['neighbourhood_group'].isna()] # checking if there are any null entries left"
   ]
  },
  {
   "cell_type": "code",
   "execution_count": 10,
   "id": "734b0d48",
   "metadata": {
    "scrolled": true
   },
   "outputs": [],
   "source": [
    "# mapping price to its neighbourhood\n",
    "groups = df[df['price'].notna()].groupby('neighbourhood')\n",
    "neighbourhood_pricemap = pd.Series([], dtype='float64')\n",
    "for i,j in groups:\n",
    "    neighbourhood_pricemap[i] = j['price'].mean() # getting the mean of each neighbourhood"
   ]
  },
  {
   "cell_type": "code",
   "execution_count": 11,
   "id": "0b13a37c",
   "metadata": {},
   "outputs": [
    {
     "data": {
      "text/plain": [
       "Allerton            87.595238\n",
       "Arden Heights       67.250000\n",
       "Arrochar           119.100000\n",
       "Arverne            171.779221\n",
       "Astoria            117.187919\n",
       "                      ...    \n",
       "Windsor Terrace    137.267974\n",
       "Woodhaven           67.170455\n",
       "Woodlawn            60.090909\n",
       "Woodrow            700.000000\n",
       "Woodside            85.670996\n",
       "Length: 219, dtype: float64"
      ]
     },
     "execution_count": 11,
     "metadata": {},
     "output_type": "execute_result"
    }
   ],
   "source": [
    "neighbourhood_pricemap"
   ]
  },
  {
   "cell_type": "code",
   "execution_count": 12,
   "id": "33cff5dc",
   "metadata": {},
   "outputs": [
    {
     "data": {
      "text/plain": [
       "56727"
      ]
     },
     "metadata": {},
     "output_type": "display_data"
    },
    {
     "data": {
      "text/plain": [
       "56725"
      ]
     },
     "metadata": {},
     "output_type": "display_data"
    }
   ],
   "source": [
    "# removing the rows that have just 1 neighbourhood with NaN price - we have no lookup for those\n",
    "display(len(df)) # see the entire dataframe \n",
    "df = df[df['neighbourhood'].map(lambda nb: nb in neighbourhood_pricemap.index.values)]\n",
    "display(len(df)) # to see how many rows are dropped "
   ]
  },
  {
   "cell_type": "code",
   "execution_count": 13,
   "id": "36775f6a",
   "metadata": {},
   "outputs": [
    {
     "data": {
      "text/plain": [
       "1        149.0\n",
       "2        225.0\n",
       "3        150.0\n",
       "4         89.0\n",
       "5         80.0\n",
       "         ...  \n",
       "56723     70.0\n",
       "56724     40.0\n",
       "56725    115.0\n",
       "56726     55.0\n",
       "56727     90.0\n",
       "Length: 56725, dtype: float64"
      ]
     },
     "execution_count": 13,
     "metadata": {},
     "output_type": "execute_result"
    }
   ],
   "source": [
    "# checking the NaN values in price column\n",
    "df.apply(lambda row: neighbourhood_pricemap[row['neighbourhood']] if np.isnan(row['price']) else row['price'], axis=1)"
   ]
  },
  {
   "cell_type": "code",
   "execution_count": 14,
   "id": "8e8e9b93",
   "metadata": {},
   "outputs": [],
   "source": [
    "# replacing NaN price columns with the mean price of the particular neighbourhood it belongs to\n",
    "# if price already exists, keep as is. Otherwise, replace NaN with the mean from our map\n",
    "df['price'] = df.apply(lambda row: neighbourhood_pricemap[row['neighbourhood']] if np.isnan(row['price']) else row['price'], axis=1)"
   ]
  },
  {
   "cell_type": "code",
   "execution_count": 15,
   "id": "9b39bf49",
   "metadata": {},
   "outputs": [
    {
     "data": {
      "text/plain": [
       "0"
      ]
     },
     "execution_count": 15,
     "metadata": {},
     "output_type": "execute_result"
    }
   ],
   "source": [
    "# checking if all the price columns are appropriately filled\n",
    "df['price'].isna().sum()"
   ]
  },
  {
   "cell_type": "code",
   "execution_count": 16,
   "id": "6bdf7b8b",
   "metadata": {},
   "outputs": [],
   "source": [
    "# dropping rows of availability_365 and room_type that have NaN values\n",
    "# there is no way of grouping or predicting the possible values of these rows\n",
    "df = df.dropna(subset=['availability_365','room_type'])"
   ]
  },
  {
   "cell_type": "code",
   "execution_count": 17,
   "id": "ed131c4e",
   "metadata": {},
   "outputs": [],
   "source": [
    "# finally, dropping duplicates left after all the previous cleaning\n",
    "df.drop_duplicates(inplace=True)\n",
    "df.reset_index(drop=True, inplace=True) # we do not want random indexes "
   ]
  },
  {
   "cell_type": "code",
   "execution_count": 18,
   "id": "d40f28af",
   "metadata": {},
   "outputs": [
    {
     "data": {
      "text/html": [
       "<div>\n",
       "<style scoped>\n",
       "    .dataframe tbody tr th:only-of-type {\n",
       "        vertical-align: middle;\n",
       "    }\n",
       "\n",
       "    .dataframe tbody tr th {\n",
       "        vertical-align: top;\n",
       "    }\n",
       "\n",
       "    .dataframe thead th {\n",
       "        text-align: right;\n",
       "    }\n",
       "</style>\n",
       "<table border=\"1\" class=\"dataframe\">\n",
       "  <thead>\n",
       "    <tr style=\"text-align: right;\">\n",
       "      <th></th>\n",
       "      <th>id</th>\n",
       "      <th>host_id</th>\n",
       "      <th>host_name</th>\n",
       "      <th>neighbourhood_group</th>\n",
       "      <th>neighbourhood</th>\n",
       "      <th>latitude</th>\n",
       "      <th>longitude</th>\n",
       "      <th>room_type</th>\n",
       "      <th>price</th>\n",
       "      <th>minimum_nights</th>\n",
       "      <th>calculated_host_listings_count</th>\n",
       "      <th>availability_365</th>\n",
       "      <th>Target</th>\n",
       "    </tr>\n",
       "  </thead>\n",
       "  <tbody>\n",
       "    <tr>\n",
       "      <th>0</th>\n",
       "      <td>2539</td>\n",
       "      <td>2787</td>\n",
       "      <td>John</td>\n",
       "      <td>Brooklyn</td>\n",
       "      <td>Kensington</td>\n",
       "      <td>40.64749</td>\n",
       "      <td>-73.97237</td>\n",
       "      <td>Private room</td>\n",
       "      <td>149.0</td>\n",
       "      <td>1</td>\n",
       "      <td>6</td>\n",
       "      <td>365.0</td>\n",
       "      <td>0</td>\n",
       "    </tr>\n",
       "    <tr>\n",
       "      <th>1</th>\n",
       "      <td>2595</td>\n",
       "      <td>2845</td>\n",
       "      <td>Jennifer</td>\n",
       "      <td>Manhattan</td>\n",
       "      <td>Midtown</td>\n",
       "      <td>40.75362</td>\n",
       "      <td>-73.98377</td>\n",
       "      <td>Entire home/apt</td>\n",
       "      <td>225.0</td>\n",
       "      <td>1</td>\n",
       "      <td>2</td>\n",
       "      <td>355.0</td>\n",
       "      <td>0</td>\n",
       "    </tr>\n",
       "    <tr>\n",
       "      <th>2</th>\n",
       "      <td>3647</td>\n",
       "      <td>4632</td>\n",
       "      <td>Elisabeth</td>\n",
       "      <td>Manhattan</td>\n",
       "      <td>Harlem</td>\n",
       "      <td>40.80902</td>\n",
       "      <td>-73.94190</td>\n",
       "      <td>Private room</td>\n",
       "      <td>150.0</td>\n",
       "      <td>3</td>\n",
       "      <td>1</td>\n",
       "      <td>365.0</td>\n",
       "      <td>0</td>\n",
       "    </tr>\n",
       "    <tr>\n",
       "      <th>3</th>\n",
       "      <td>3831</td>\n",
       "      <td>4869</td>\n",
       "      <td>LisaRoxanne</td>\n",
       "      <td>Brooklyn</td>\n",
       "      <td>Clinton Hill</td>\n",
       "      <td>40.68514</td>\n",
       "      <td>-73.95976</td>\n",
       "      <td>Entire home/apt</td>\n",
       "      <td>89.0</td>\n",
       "      <td>1</td>\n",
       "      <td>1</td>\n",
       "      <td>194.0</td>\n",
       "      <td>1</td>\n",
       "    </tr>\n",
       "    <tr>\n",
       "      <th>4</th>\n",
       "      <td>5022</td>\n",
       "      <td>7192</td>\n",
       "      <td>Laura</td>\n",
       "      <td>Manhattan</td>\n",
       "      <td>East Harlem</td>\n",
       "      <td>40.79851</td>\n",
       "      <td>-73.94399</td>\n",
       "      <td>Entire home/apt</td>\n",
       "      <td>80.0</td>\n",
       "      <td>10</td>\n",
       "      <td>1</td>\n",
       "      <td>0.0</td>\n",
       "      <td>0</td>\n",
       "    </tr>\n",
       "    <tr>\n",
       "      <th>...</th>\n",
       "      <td>...</td>\n",
       "      <td>...</td>\n",
       "      <td>...</td>\n",
       "      <td>...</td>\n",
       "      <td>...</td>\n",
       "      <td>...</td>\n",
       "      <td>...</td>\n",
       "      <td>...</td>\n",
       "      <td>...</td>\n",
       "      <td>...</td>\n",
       "      <td>...</td>\n",
       "      <td>...</td>\n",
       "      <td>...</td>\n",
       "    </tr>\n",
       "    <tr>\n",
       "      <th>48063</th>\n",
       "      <td>36484665</td>\n",
       "      <td>8232441</td>\n",
       "      <td>Sabrina</td>\n",
       "      <td>Brooklyn</td>\n",
       "      <td>Bedford-Stuyvesant</td>\n",
       "      <td>40.67853</td>\n",
       "      <td>-73.94995</td>\n",
       "      <td>Private room</td>\n",
       "      <td>70.0</td>\n",
       "      <td>2</td>\n",
       "      <td>2</td>\n",
       "      <td>9.0</td>\n",
       "      <td>0</td>\n",
       "    </tr>\n",
       "    <tr>\n",
       "      <th>48064</th>\n",
       "      <td>36485057</td>\n",
       "      <td>6570630</td>\n",
       "      <td>Marisol</td>\n",
       "      <td>Brooklyn</td>\n",
       "      <td>Bushwick</td>\n",
       "      <td>40.70184</td>\n",
       "      <td>-73.93317</td>\n",
       "      <td>Private room</td>\n",
       "      <td>40.0</td>\n",
       "      <td>4</td>\n",
       "      <td>2</td>\n",
       "      <td>36.0</td>\n",
       "      <td>0</td>\n",
       "    </tr>\n",
       "    <tr>\n",
       "      <th>48065</th>\n",
       "      <td>36485431</td>\n",
       "      <td>23492952</td>\n",
       "      <td>Ilgar &amp; Aysel</td>\n",
       "      <td>Manhattan</td>\n",
       "      <td>Harlem</td>\n",
       "      <td>40.81475</td>\n",
       "      <td>-73.94867</td>\n",
       "      <td>Entire home/apt</td>\n",
       "      <td>115.0</td>\n",
       "      <td>10</td>\n",
       "      <td>1</td>\n",
       "      <td>27.0</td>\n",
       "      <td>0</td>\n",
       "    </tr>\n",
       "    <tr>\n",
       "      <th>48066</th>\n",
       "      <td>36485609</td>\n",
       "      <td>30985759</td>\n",
       "      <td>Taz</td>\n",
       "      <td>Manhattan</td>\n",
       "      <td>Hell's Kitchen</td>\n",
       "      <td>40.75751</td>\n",
       "      <td>-73.99112</td>\n",
       "      <td>Shared room</td>\n",
       "      <td>55.0</td>\n",
       "      <td>1</td>\n",
       "      <td>6</td>\n",
       "      <td>2.0</td>\n",
       "      <td>0</td>\n",
       "    </tr>\n",
       "    <tr>\n",
       "      <th>48067</th>\n",
       "      <td>36487245</td>\n",
       "      <td>68119814</td>\n",
       "      <td>Christophe</td>\n",
       "      <td>Manhattan</td>\n",
       "      <td>Hell's Kitchen</td>\n",
       "      <td>40.76404</td>\n",
       "      <td>-73.98933</td>\n",
       "      <td>Private room</td>\n",
       "      <td>90.0</td>\n",
       "      <td>7</td>\n",
       "      <td>1</td>\n",
       "      <td>23.0</td>\n",
       "      <td>0</td>\n",
       "    </tr>\n",
       "  </tbody>\n",
       "</table>\n",
       "<p>48068 rows × 13 columns</p>\n",
       "</div>"
      ],
      "text/plain": [
       "             id   host_id      host_name neighbourhood_group  \\\n",
       "0          2539      2787           John            Brooklyn   \n",
       "1          2595      2845       Jennifer           Manhattan   \n",
       "2          3647      4632      Elisabeth           Manhattan   \n",
       "3          3831      4869    LisaRoxanne            Brooklyn   \n",
       "4          5022      7192          Laura           Manhattan   \n",
       "...         ...       ...            ...                 ...   \n",
       "48063  36484665   8232441        Sabrina            Brooklyn   \n",
       "48064  36485057   6570630        Marisol            Brooklyn   \n",
       "48065  36485431  23492952  Ilgar & Aysel           Manhattan   \n",
       "48066  36485609  30985759            Taz           Manhattan   \n",
       "48067  36487245  68119814     Christophe           Manhattan   \n",
       "\n",
       "            neighbourhood  latitude  longitude        room_type  price  \\\n",
       "0              Kensington  40.64749  -73.97237     Private room  149.0   \n",
       "1                 Midtown  40.75362  -73.98377  Entire home/apt  225.0   \n",
       "2                  Harlem  40.80902  -73.94190     Private room  150.0   \n",
       "3            Clinton Hill  40.68514  -73.95976  Entire home/apt   89.0   \n",
       "4             East Harlem  40.79851  -73.94399  Entire home/apt   80.0   \n",
       "...                   ...       ...        ...              ...    ...   \n",
       "48063  Bedford-Stuyvesant  40.67853  -73.94995     Private room   70.0   \n",
       "48064            Bushwick  40.70184  -73.93317     Private room   40.0   \n",
       "48065              Harlem  40.81475  -73.94867  Entire home/apt  115.0   \n",
       "48066      Hell's Kitchen  40.75751  -73.99112      Shared room   55.0   \n",
       "48067      Hell's Kitchen  40.76404  -73.98933     Private room   90.0   \n",
       "\n",
       "       minimum_nights  calculated_host_listings_count  availability_365  \\\n",
       "0                   1                               6             365.0   \n",
       "1                   1                               2             355.0   \n",
       "2                   3                               1             365.0   \n",
       "3                   1                               1             194.0   \n",
       "4                  10                               1               0.0   \n",
       "...               ...                             ...               ...   \n",
       "48063               2                               2               9.0   \n",
       "48064               4                               2              36.0   \n",
       "48065              10                               1              27.0   \n",
       "48066               1                               6               2.0   \n",
       "48067               7                               1              23.0   \n",
       "\n",
       "       Target  \n",
       "0           0  \n",
       "1           0  \n",
       "2           0  \n",
       "3           1  \n",
       "4           0  \n",
       "...       ...  \n",
       "48063       0  \n",
       "48064       0  \n",
       "48065       0  \n",
       "48066       0  \n",
       "48067       0  \n",
       "\n",
       "[48068 rows x 13 columns]"
      ]
     },
     "execution_count": 18,
     "metadata": {},
     "output_type": "execute_result"
    }
   ],
   "source": [
    "# the final dataframe we will use for analysis\n",
    "df"
   ]
  },
  {
   "cell_type": "code",
   "execution_count": 19,
   "id": "d356a711",
   "metadata": {},
   "outputs": [
    {
     "data": {
      "image/png": "[encoded data removed]",
      "text/plain": [
       "<Figure size 720x720 with 1 Axes>"
      ]
     },
     "metadata": {
      "needs_background": "light"
     },
     "output_type": "display_data"
    }
   ],
   "source": [
    "# 2b: mean price of listing in each neighbourhood\n",
    "\n",
    "# using the sns library because hist() was not giving a proper grouped histogram\n",
    "plt.figure(figsize=(10,10))\n",
    "sns.countplot(x='room_type', hue='neighbourhood_group', data=df)\n",
    "plt.show()"
   ]
  },
  {
   "cell_type": "code",
   "execution_count": 20,
   "id": "26a0560f",
   "metadata": {},
   "outputs": [
    {
     "data": {
      "image/png": "[encoded data removed]",
      "text/plain": [
       "<Figure size 432x288 with 1 Axes>"
      ]
     },
     "metadata": {
      "needs_background": "light"
     },
     "output_type": "display_data"
    }
   ],
   "source": [
    "# 2c: visualizing mean price of listing in each neighbourhood_group\n",
    "\n",
    "df.groupby('neighbourhood_group')['price'].mean().plot(kind='barh')\n",
    "plt.xlabel('Mean Price')\n",
    "plt.show()"
   ]
  },
  {
   "cell_type": "code",
   "execution_count": 21,
   "id": "765556b3",
   "metadata": {},
   "outputs": [],
   "source": [
    "# 3: Modeling with Logistic Regression\n",
    "\n",
    "# transforming the categorical variables into dummy variables\n",
    "encode = preprocessing.LabelEncoder()\n",
    "encode.fit(df.neighbourhood)\n",
    "df.neighbourhood=encode.transform(df.neighbourhood)\n",
    "\n",
    "encode = preprocessing.LabelEncoder()\n",
    "encode.fit(df.neighbourhood_group)\n",
    "df.neighbourhood_group=encode.transform(df.neighbourhood_group)\n",
    "\n",
    "encode = preprocessing.LabelEncoder()\n",
    "encode.fit(df.room_type)\n",
    "df.room_type=encode.transform(df.room_type)\n",
    "\n",
    "df.sort_values(by='price', ascending=True, inplace=True)"
   ]
  },
  {
   "cell_type": "code",
   "execution_count": 22,
   "id": "5c6e28d0",
   "metadata": {},
   "outputs": [
    {
     "data": {
      "text/plain": [
       "LogisticRegression()"
      ]
     },
     "execution_count": 22,
     "metadata": {},
     "output_type": "execute_result"
    }
   ],
   "source": [
    "# fitting the model\n",
    "l_reg = LogisticRegression()\n",
    "\n",
    "# the predictors we are going to use for our model\n",
    "X = df[['neighbourhood_group','neighbourhood','latitude','longitude','room_type','minimum_nights','calculated_host_listings_count','availability_365']]\n",
    "y = df['Target']\n",
    "\n",
    "# splitting the dataset into train and test data in a ratio of 80:20\n",
    "X_train, X_test, y_train, y_test = train_test_split(X, y, test_size=0.2, random_state=597)\n",
    "\n",
    "l_reg.fit(X_train,y_train)"
   ]
  },
  {
   "cell_type": "code",
   "execution_count": 23,
   "id": "eeec6ba5",
   "metadata": {},
   "outputs": [
    {
     "data": {
      "text/plain": [
       "array([0, 1, 1, ..., 0, 0, 1], dtype=int64)"
      ]
     },
     "execution_count": 23,
     "metadata": {},
     "output_type": "execute_result"
    }
   ],
   "source": [
    "# storing the predictions\n",
    "y_pred = l_reg.predict(X_test)\n",
    "y_pred"
   ]
  },
  {
   "cell_type": "code",
   "execution_count": 24,
   "id": "73ac59ec",
   "metadata": {},
   "outputs": [
    {
     "data": {
      "text/plain": [
       "9748     0\n",
       "23936    1\n",
       "9374     1\n",
       "41916    0\n",
       "14397    1\n",
       "        ..\n",
       "4907     1\n",
       "44619    0\n",
       "30483    0\n",
       "28095    0\n",
       "22481    1\n",
       "Name: Target, Length: 9614, dtype: int64"
      ]
     },
     "execution_count": 24,
     "metadata": {},
     "output_type": "execute_result"
    }
   ],
   "source": [
    "# checking our testing data\n",
    "y_test"
   ]
  },
  {
   "cell_type": "code",
   "execution_count": 25,
   "id": "359683d8",
   "metadata": {},
   "outputs": [
    {
     "data": {
      "text/plain": [
       "0    5249\n",
       "1    4365\n",
       "Name: Target, dtype: int64"
      ]
     },
     "execution_count": 25,
     "metadata": {},
     "output_type": "execute_result"
    }
   ],
   "source": [
    "y_test.value_counts()"
   ]
  },
  {
   "cell_type": "code",
   "execution_count": 26,
   "id": "aa56fb82",
   "metadata": {},
   "outputs": [
    {
     "data": {
      "text/plain": [
       "array([[4389,  860],\n",
       "       [2219, 2146]], dtype=int64)"
      ]
     },
     "execution_count": 26,
     "metadata": {},
     "output_type": "execute_result"
    }
   ],
   "source": [
    "# confusion matrix to evaluate the accuracy of the classification\n",
    "confmatrix = confusion_matrix(y_test,y_pred)\n",
    "confmatrix"
   ]
  },
  {
   "cell_type": "code",
   "execution_count": 27,
   "id": "da56eeed",
   "metadata": {},
   "outputs": [
    {
     "data": {
      "text/plain": [
       "0.6797378822550447"
      ]
     },
     "execution_count": 27,
     "metadata": {},
     "output_type": "execute_result"
    }
   ],
   "source": [
    "# getting the accuracy score of our model\n",
    "accuracy_score(y_test,y_pred)"
   ]
  },
  {
   "cell_type": "code",
   "execution_count": 28,
   "id": "fa00bea0",
   "metadata": {
    "scrolled": true
   },
   "outputs": [
    {
     "data": {
      "text/plain": [
       "0.5459746203453297"
      ]
     },
     "execution_count": 28,
     "metadata": {},
     "output_type": "execute_result"
    }
   ],
   "source": [
    "# this is the minimum accuracy of the worst case model - our model has much better accuracy\n",
    "1 - y_test.mean()"
   ]
  }
 ],
 "metadata": {
  "kernelspec": {
   "display_name": "Python 3 (ipykernel)",
   "language": "python",
   "name": "python3"
  },
  "language_info": {
   "codemirror_mode": {
    "name": "ipython",
    "version": 3
   },
   "file_extension": ".py",
   "mimetype": "text/x-python",
   "name": "python",
   "nbconvert_exporter": "python",
   "pygments_lexer": "ipython3",
   "version": "3.9.12"
  }
 },
 "nbformat": 4,
 "nbformat_minor": 5
}
